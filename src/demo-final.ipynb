{
 "cells": [
  {
   "cell_type": "code",
   "execution_count": 1,
   "metadata": {},
   "outputs": [],
   "source": [
    "import RSA_OAEP\n",
    "from importlib import reload as rl\n",
    "p = 'dodf.pdf'"
   ]
  },
  {
   "cell_type": "code",
   "execution_count": 2,
   "metadata": {},
   "outputs": [
    {
     "name": "stdout",
     "output_type": "stream",
     "text": [
      "<class 'bytes'> b'\\x03M/?.\\xf7\\xffhK{' ...\n"
     ]
    }
   ],
   "source": [
    "# sig_dict = demo.RSA_OAEP.Sign(p)\n",
    "sig_dict = RSA_OAEP.RSA_OAEP.Sign(p)"
   ]
  },
  {
   "cell_type": "code",
   "execution_count": 3,
   "metadata": {},
   "outputs": [],
   "source": [
    "sign=sig_dict['sign']\n",
    "verifier=sig_dict['vrfyer']\n",
    "vrf = RSA_OAEP.RSA_OAEP.Vrfy(p, sign, verifier)"
   ]
  },
  {
   "cell_type": "code",
   "execution_count": 4,
   "metadata": {},
   "outputs": [
    {
     "data": {
      "text/plain": [
       "(b'\\x1f\\xdcf\\x85\\xa3\\xf7m\\xd0\\xa9\\x95\\xa6\\x94\\x07^\\xc7]\\xad~\\x08!\\xa6\\xc1v\\xad3~(\\x0es\\xb6?\\xb8\\xcf\\xd1W\\xe79U\\xa0\\xb9*\\xc3\\x1f\\xf9\\x1b\\xf7\\x8f\\xeb',\n",
       " b'\\x1f\\xdcf\\x85\\xa3\\xf7m\\xd0\\xa9\\x95\\xa6\\x94\\x07^\\xc7]\\xad~\\x08!\\xa6\\xc1v\\xad3~(\\x0es\\xb6?\\xb8\\xcf\\xd1W\\xe79U\\xa0\\xb9*\\xc3\\x1f\\xf9\\x1b\\xf7\\x8f\\xeb')"
      ]
     },
     "execution_count": 4,
     "metadata": {},
     "output_type": "execute_result"
    }
   ],
   "source": [
    "vrf"
   ]
  },
  {
   "cell_type": "code",
   "execution_count": null,
   "metadata": {},
   "outputs": [],
   "source": []
  }
 ],
 "metadata": {
  "kernelspec": {
   "display_name": "Python 3",
   "language": "python",
   "name": "python3"
  },
  "language_info": {
   "codemirror_mode": {
    "name": "ipython",
    "version": 3
   },
   "file_extension": ".py",
   "mimetype": "text/x-python",
   "name": "python",
   "nbconvert_exporter": "python",
   "pygments_lexer": "ipython3",
   "version": "3.8.1"
  }
 },
 "nbformat": 4,
 "nbformat_minor": 4
}
