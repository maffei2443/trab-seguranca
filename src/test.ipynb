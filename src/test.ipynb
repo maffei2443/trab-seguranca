{
 "cells": [
  {
   "cell_type": "code",
   "execution_count": 2,
   "metadata": {},
   "outputs": [],
   "source": [
    "import math\n",
    "import random\n",
    "import core\n",
    "from importlib import reload as rl"
   ]
  },
  {
   "cell_type": "code",
   "execution_count": 3,
   "metadata": {},
   "outputs": [],
   "source": [
    "# x, y = \n",
    "for x in range(1, 99):\n",
    "    for y in range(2, 8):\n",
    "        for mod in range(3, 15, 2):\n",
    "            meu = core.fast_mod_exp(x, y, mod)\n",
    "            py = x ** y % mod\n",
    "            if meu != py:\n",
    "                input()\n",
    "                print(x,  y, mod)\n"
   ]
  },
  {
   "cell_type": "code",
   "execution_count": 4,
   "metadata": {},
   "outputs": [
    {
     "data": {
      "text/plain": [
       "True"
      ]
     },
     "execution_count": 4,
     "metadata": {},
     "output_type": "execute_result"
    }
   ],
   "source": [
    "rl(core)\n",
    "core.miller_rabin(101, 10)"
   ]
  },
  {
   "cell_type": "code",
   "execution_count": 5,
   "metadata": {},
   "outputs": [],
   "source": [
    "rl(core)\n",
    "assert core.modInverse(4, 5) == 4"
   ]
  },
  {
   "cell_type": "code",
   "execution_count": 6,
   "metadata": {
    "scrolled": true
   },
   "outputs": [
    {
     "name": "stdout",
     "output_type": "stream",
     "text": [
      "295021 1173570982758673703472055789167728814409947541433187665395256968466215807733298335869140562252157649502844609518468714020\n",
      "\n",
      "409330 1173570982758673703472055789167728814409947541433187665395256968466215807733298335869140562252157649502844609518468714020\n",
      "\n",
      "253041 1173570982758673703472055789167728814409947541433187665395256968466215807733298335869140562252157649502844609518468714020\n",
      "\n",
      "450509 1173570982758673703472055789167728814409947541433187665395256968466215807733298335869140562252157649502844609518468714020\n",
      "\n",
      "164827 1173570982758673703472055789167728814409947541433187665395256968466215807733298335869140562252157649502844609518468714020\n",
      "\n"
     ]
    },
    {
     "data": {
      "text/plain": [
       "(1173570982758673703472055789167728814409947541433187665395259147262642792315905394327623730970459075843231166105786669977,\n",
       " 164827,\n",
       " 523114742574108099205806153639526313792723618197490283535190986489964275330941908999384968780771807207699565641135341223)"
      ]
     },
     "execution_count": 6,
     "metadata": {},
     "output_type": "execute_result"
    }
   ],
   "source": [
    "d = {}\n",
    "core.GenRSA(200, 100, d)"
   ]
  },
  {
   "cell_type": "code",
   "execution_count": 7,
   "metadata": {},
   "outputs": [
    {
     "data": {
      "text/plain": [
       "{'n': 1173570982758673703472055789167728814409947541433187665395259147262642792315905394327623730970459075843231166105786669977,\n",
       " 'e': 164827,\n",
       " 'd': 523114742574108099205806153639526313792723618197490283535190986489964275330941908999384968780771807207699565641135341223,\n",
       " 'p': 1204365534073064161909174444406601632305475281602427075434571,\n",
       " 'q': 974430892911518445149284038762116669120865104954160242521387}"
      ]
     },
     "execution_count": 7,
     "metadata": {},
     "output_type": "execute_result"
    }
   ],
   "source": [
    "d"
   ]
  },
  {
   "cell_type": "code",
   "execution_count": 16,
   "metadata": {},
   "outputs": [
    {
     "data": {
      "text/plain": [
       "True"
      ]
     },
     "execution_count": 16,
     "metadata": {},
     "output_type": "execute_result"
    }
   ],
   "source": [
    "d['n'] == d['p'] * d['q']"
   ]
  }
 ],
 "metadata": {
  "kernelspec": {
   "display_name": "Python 3",
   "language": "python",
   "name": "python3"
  },
  "language_info": {
   "codemirror_mode": {
    "name": "ipython",
    "version": 3
   },
   "file_extension": ".py",
   "mimetype": "text/x-python",
   "name": "python",
   "nbconvert_exporter": "python",
   "pygments_lexer": "ipython3",
   "version": "3.8.1"
  }
 },
 "nbformat": 4,
 "nbformat_minor": 4
}
