{
 "cells": [
  {
   "cell_type": "markdown",
   "metadata": {},
   "source": [
    "### Referências\n",
    "\n",
    "1. [Generate Large Prime][large-prime]\n",
    "1. [Modular Exponentiation][modular-exp]\n",
    "1. [Perfect power][perfect-power]\n",
    "1. [Introduction to Algorithms, 3rd][cormen]\n",
    "1. [List of primes][primes]\n",
    "1. [Euclidean extended alg.][euclides-ext]\n",
    "1. [Modular inverse / extended GCD][modular-inv]\n",
    "1. [RFC 8017][rfc-8017]\n",
    "1. [Miller-Rabin][is-prime]\n",
    "1. [How to generate big primes][big-primes]\n",
    "\n",
    "[large-prime]: https://www.geeksforgeeks.org/how-to-generate-large-prime-numbers-for-rsa-algorithm/\n",
    "[modular-exp]: https://www.geeksforgeeks.org/modular-exponentiation-power-in-modular-arithmetic/\n",
    "[perfect-power]: https://math.stackexchange.com/questions/470424/what-better-way-to-check-if-a-number-is-a-perfect-power\n",
    "[cormen]: https://www.amazon.com/Introduction-Algorithms-3rd-MIT-Press/dp/0262033844\n",
    "[primes]: https://primes.utm.edu/lists/small/millions/\n",
    "[euclides-ext]: https://www.geeksforgeeks.org/multiplicative-inverse-under-modulo-m/\n",
    "[modular-inv]: https://tutorialspoint.dev/algorithm/mathematical-algorithms/multiplicative-inverse-under-modulo-m\n",
    "[rfc-8017]: https://tools.ietf.org/html/rfc8017\n",
    "[is-prime]: https://rosettacode.org/wiki/Miller%E2%80%93Rabin_primality_test#Python\n",
    "[big-primes]: https://medium.com/@prudywsh/how-to-generate-big-prime-numbers-miller-rabin-49e6e6af32fb"
   ]
  }
 ],
 "metadata": {
  "kernelspec": {
   "display_name": "Python 3",
   "language": "python",
   "name": "python3"
  },
  "language_info": {
   "codemirror_mode": {
    "name": "ipython",
    "version": 3
   },
   "file_extension": ".py",
   "mimetype": "text/x-python",
   "name": "python",
   "nbconvert_exporter": "python",
   "pygments_lexer": "ipython3",
   "version": "3.8.1"
  }
 },
 "nbformat": 4,
 "nbformat_minor": 4
}
