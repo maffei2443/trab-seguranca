{
 "cells": [
  {
   "cell_type": "code",
   "execution_count": 64,
   "metadata": {},
   "outputs": [
    {
     "name": "stdout",
     "output_type": "stream",
     "text": [
      "The autoreload extension is already loaded. To reload it, use:\n",
      "  %reload_ext autoreload\n"
     ]
    }
   ],
   "source": [
    "%load_ext autoreload\n",
    "%autoreload 2\n",
    "import math\n",
    "import random\n",
    "import core\n",
    "from importlib import reload as rl"
   ]
  },
  {
   "cell_type": "code",
   "execution_count": 65,
   "metadata": {},
   "outputs": [
    {
     "data": {
      "text/plain": [
       "[1, 2, 3, 4, 5, 6]"
      ]
     },
     "execution_count": 65,
     "metadata": {},
     "output_type": "execute_result"
    }
   ],
   "source": [
    "rl(core)\n",
    "core.is_perfect_power(2**1023)\n",
    "list(core.powers_of_two_divisors(2*4*8*15))"
   ]
  },
  {
   "cell_type": "code",
   "execution_count": 75,
   "metadata": {},
   "outputs": [
    {
     "name": "stdout",
     "output_type": "stream",
     "text": [
      "1000000\n"
     ]
    }
   ],
   "source": [
    "first_million_primes = core.load_primes()\n",
    "print(len(first_million_primes))\n",
    "first_million_primes = [\n",
    "    i for i in first_million_primes if i > 100_000\n",
    "]"
   ]
  },
  {
   "cell_type": "code",
   "execution_count": 124,
   "metadata": {},
   "outputs": [],
   "source": [
    "b=random.randrange(2**1022, 2**1023)"
   ]
  },
  {
   "cell_type": "code",
   "execution_count": 203,
   "metadata": {},
   "outputs": [
    {
     "data": {
      "text/plain": [
       "'0b1000000001'"
      ]
     },
     "execution_count": 203,
     "metadata": {},
     "output_type": "execute_result"
    }
   ],
   "source": [
    "mask = (1 << 10 - 1) | 1\n",
    "bin(mask)"
   ]
  },
  {
   "cell_type": "code",
   "execution_count": 204,
   "metadata": {
    "collapsed": true
   },
   "outputs": [
    {
     "ename": "KeyboardInterrupt",
     "evalue": "",
     "output_type": "error",
     "traceback": [
      "\u001b[0;31m---------------------------------------------------------------------------\u001b[0m",
      "\u001b[0;31mKeyboardInterrupt\u001b[0m                         Traceback (most recent call last)",
      "\u001b[0;32m<ipython-input-204-36e5c22d2315>\u001b[0m in \u001b[0;36m<module>\u001b[0;34m\u001b[0m\n\u001b[0;32m----> 1\u001b[0;31m \u001b[0mprime\u001b[0m \u001b[0;34m=\u001b[0m \u001b[0mcore\u001b[0m\u001b[0;34m.\u001b[0m\u001b[0mgen_n_bits_prime\u001b[0m\u001b[0;34m(\u001b[0m\u001b[0;36m100\u001b[0m\u001b[0;34m)\u001b[0m\u001b[0;34m\u001b[0m\u001b[0;34m\u001b[0m\u001b[0m\n\u001b[0m",
      "\u001b[0;32m~/Desktop/UNB_11/seguranca/trab-seguranca/src/core.py\u001b[0m in \u001b[0;36mgen_n_bits_prime\u001b[0;34m(n, s)\u001b[0m\n\u001b[1;32m    172\u001b[0m \u001b[0;34m\u001b[0m\u001b[0m\n\u001b[1;32m    173\u001b[0m \u001b[0;32mdef\u001b[0m \u001b[0mget_coprime\u001b[0m\u001b[0;34m(\u001b[0m\u001b[0msupposed_prime\u001b[0m\u001b[0;34m,\u001b[0m \u001b[0mcandidates\u001b[0m\u001b[0;34m)\u001b[0m\u001b[0;34m:\u001b[0m\u001b[0;34m\u001b[0m\u001b[0;34m\u001b[0m\u001b[0m\n\u001b[0;32m--> 174\u001b[0;31m     \u001b[0;32mfor\u001b[0m \u001b[0mc\u001b[0m \u001b[0;32min\u001b[0m \u001b[0mcandidates\u001b[0m\u001b[0;34m:\u001b[0m\u001b[0;34m\u001b[0m\u001b[0;34m\u001b[0m\u001b[0m\n\u001b[0m\u001b[1;32m    175\u001b[0m         \u001b[0;32mif\u001b[0m \u001b[0mgcd\u001b[0m\u001b[0;34m(\u001b[0m\u001b[0mc\u001b[0m\u001b[0;34m,\u001b[0m \u001b[0msupposed_prime\u001b[0m\u001b[0;34m)\u001b[0m \u001b[0;34m==\u001b[0m \u001b[0;36m1\u001b[0m\u001b[0;34m:\u001b[0m\u001b[0;34m\u001b[0m\u001b[0;34m\u001b[0m\u001b[0m\n\u001b[1;32m    176\u001b[0m             \u001b[0;32mreturn\u001b[0m \u001b[0mc\u001b[0m\u001b[0;34m\u001b[0m\u001b[0;34m\u001b[0m\u001b[0m\n",
      "\u001b[0;32m~/Desktop/UNB_11/seguranca/trab-seguranca/src/core.py\u001b[0m in \u001b[0;36mmiller_rabin\u001b[0;34m(n, s)\u001b[0m\n\u001b[1;32m    124\u001b[0m \u001b[0;34m\u001b[0m\u001b[0m\n\u001b[1;32m    125\u001b[0m \u001b[0;31m# [7]\u001b[0m\u001b[0;34m\u001b[0m\u001b[0;34m\u001b[0m\u001b[0;34m\u001b[0m\u001b[0m\n\u001b[0;32m--> 126\u001b[0;31m \u001b[0;32mdef\u001b[0m \u001b[0mmodInverse\u001b[0m\u001b[0;34m(\u001b[0m\u001b[0ma\u001b[0m\u001b[0;34m,\u001b[0m \u001b[0mm\u001b[0m\u001b[0;34m)\u001b[0m\u001b[0;34m:\u001b[0m\u001b[0;34m\u001b[0m\u001b[0;34m\u001b[0m\u001b[0m\n\u001b[0m\u001b[1;32m    127\u001b[0m     \u001b[0mm0\u001b[0m \u001b[0;34m=\u001b[0m \u001b[0mm\u001b[0m\u001b[0;34m\u001b[0m\u001b[0;34m\u001b[0m\u001b[0m\n\u001b[1;32m    128\u001b[0m     \u001b[0my\u001b[0m \u001b[0;34m=\u001b[0m \u001b[0;36m0\u001b[0m\u001b[0;34m\u001b[0m\u001b[0;34m\u001b[0m\u001b[0m\n",
      "\u001b[0;32m~/Desktop/UNB_11/seguranca/trab-seguranca/src/core.py\u001b[0m in \u001b[0;36mis_witness\u001b[0;34m(a, n)\u001b[0m\n\u001b[1;32m     95\u001b[0m \u001b[0;34m\u001b[0m\u001b[0m\n\u001b[1;32m     96\u001b[0m         \u001b[0;32mif\u001b[0m \u001b[0mx1\u001b[0m \u001b[0;34m==\u001b[0m \u001b[0;36m1\u001b[0m \u001b[0;32mand\u001b[0m \u001b[0mx0\u001b[0m \u001b[0;34m!=\u001b[0m \u001b[0;36m1\u001b[0m \u001b[0;32mand\u001b[0m \u001b[0mx0\u001b[0m \u001b[0;34m!=\u001b[0m \u001b[0mn\u001b[0m \u001b[0;34m-\u001b[0m \u001b[0;36m1\u001b[0m\u001b[0;34m:\u001b[0m\u001b[0;34m\u001b[0m\u001b[0;34m\u001b[0m\u001b[0m\n\u001b[0;32m---> 97\u001b[0;31m             \u001b[0;32mreturn\u001b[0m \u001b[0;32mTrue\u001b[0m\u001b[0;34m\u001b[0m\u001b[0;34m\u001b[0m\u001b[0m\n\u001b[0m\u001b[1;32m     98\u001b[0m \u001b[0;34m\u001b[0m\u001b[0m\n\u001b[1;32m     99\u001b[0m         \u001b[0mx0\u001b[0m \u001b[0;34m=\u001b[0m \u001b[0mx1\u001b[0m\u001b[0;34m\u001b[0m\u001b[0;34m\u001b[0m\u001b[0m\n",
      "\u001b[0;32m~/Desktop/UNB_11/seguranca/trab-seguranca/src/core.py\u001b[0m in \u001b[0;36mpowers_of_two_divisors\u001b[0;34m(n)\u001b[0m\n\u001b[1;32m     81\u001b[0m \u001b[0;34m\u001b[0m\u001b[0m\n\u001b[1;32m     82\u001b[0m \u001b[0;31m# Implementation of pseudocode at [4]\u001b[0m\u001b[0;34m\u001b[0m\u001b[0;34m\u001b[0m\u001b[0;34m\u001b[0m\u001b[0m\n\u001b[0;32m---> 83\u001b[0;31m \u001b[0;32mdef\u001b[0m \u001b[0mis_witness\u001b[0m\u001b[0;34m(\u001b[0m\u001b[0ma\u001b[0m\u001b[0;34m:\u001b[0m \u001b[0mint\u001b[0m\u001b[0;34m,\u001b[0m \u001b[0mn\u001b[0m\u001b[0;34m:\u001b[0m \u001b[0mint\u001b[0m\u001b[0;34m)\u001b[0m\u001b[0;34m:\u001b[0m\u001b[0;34m\u001b[0m\u001b[0;34m\u001b[0m\u001b[0m\n\u001b[0m\u001b[1;32m     84\u001b[0m     \u001b[0;32mif\u001b[0m \u001b[0;32mnot\u001b[0m \u001b[0;34m(\u001b[0m\u001b[0mn\u001b[0m \u001b[0;34m&\u001b[0m \u001b[0;36m1\u001b[0m\u001b[0;34m)\u001b[0m \u001b[0;32mor\u001b[0m \u001b[0mn\u001b[0m \u001b[0;34m<\u001b[0m \u001b[0;36m0\u001b[0m\u001b[0;34m:\u001b[0m\u001b[0;34m\u001b[0m\u001b[0;34m\u001b[0m\u001b[0m\n\u001b[1;32m     85\u001b[0m         raise ValueError(\n",
      "\u001b[0;31mKeyboardInterrupt\u001b[0m: "
     ]
    }
   ],
   "source": [
    "prime = core.gen_n_bits_prime(100)"
   ]
  },
  {
   "cell_type": "code",
   "execution_count": 190,
   "metadata": {
    "scrolled": true
   },
   "outputs": [
    {
     "data": {
      "text/plain": [
       "'prime'"
      ]
     },
     "execution_count": 190,
     "metadata": {},
     "output_type": "execute_result"
    }
   ],
   "source": [
    "core.miller_rabin(101, 1)"
   ]
  },
  {
   "cell_type": "code",
   "execution_count": 200,
   "metadata": {},
   "outputs": [],
   "source": [
    "# d = {}\n",
    "# core.GenRSA(100, dictionary=d);"
   ]
  },
  {
   "cell_type": "code",
   "execution_count": 299,
   "metadata": {},
   "outputs": [],
   "source": [
    "# [8]\n",
    "# RSAPrivateKey ::= SEQUENCE {\n",
    "#      version           Version,\n",
    "#      modulus           INTEGER,  -- n\n",
    "#      publicExponent    INTEGER,  -- e\n",
    "#      privateExponent   INTEGER,  -- d\n",
    "#      prime1            INTEGER,  -- p\n",
    "#      prime2            INTEGER,  -- q\n",
    "#      exponent1         INTEGER,  -- d mod (p-1)\n",
    "#      exponent2         INTEGER,  -- d mod (q-1)\n",
    "#      coefficient       INTEGER,  -- (inverse of q) mod p\n",
    "#      otherPrimeInfos   OtherPrimeInfos OPTIONAL\n",
    "#     }\n",
    "\n",
    "RSAPrivateKey = namedtuple('RSAPrivateKey', [\n",
    "    'modulus', 'publicExponent', 'privateExponent', \n",
    "    'prime1', 'prime2', 'exponent1', 'exponent2', \n",
    "    'coefficient',]\n",
    ")  \n",
    "\n",
    "\n",
    "def slc(s, n):\n",
    "    return s[:n], s[n:]\n",
    "\n",
    "\n",
    "class RSA_OAEP:\n",
    "    def __init__(self, key_length=1500, s: int = 50):\n",
    "        if not 1024 <= key_length <= 2 * 1023:\n",
    "            raise ValueError(\n",
    "                \"key_length must satisfy 1024 <= key_length <= 2 * 2046\"\n",
    "            )\n",
    "        half_length = iceil(key_length / 2)\n",
    "        N, p, q = core.GenModulus(half_length)\n",
    "        \n",
    "        phi_n = (p-1) * (q-1)\n",
    "        e = get_coprime(phi_n, first_million_primes)\n",
    "        d = \n",
    "        self.pk = RSAPrivateKey()\n",
    "        \n",
    "        \n",
    "    def encrypt(m: str):\n",
    "        m = m.replace(' ', '{')\n",
    "        N, e = self.pk.modulus, self.pk.publicExponent\n",
    "        # TODO: definir l\n",
    "        m_ = m + self.l * '0'\n",
    "        # TODO: definir k0\n",
    "        r = ''.join(\n",
    "            [str(random.randint(0, 1)) for _ in range(self.k0)]\n",
    "        )\n",
    "        s = m_ ^ G(r)\n",
    "        t = r ^ H(s)\n",
    "        m_hat = s + t\n",
    "        # TODO: implementar a parte abaixo `de facto`, pois sendo\n",
    "        # `m` uma string, atualmente a linha abaixo vai falhar pois\n",
    "        # a exponenciação rápida é para inteiros.\n",
    "        # Talvez iterar sobre os caracteres, converter para inteiro e\n",
    "        # fazer a exponenciação e ir fazendo \n",
    "        c = fast_mod_exp(m, e, N)\n",
    "        \n",
    "        return c\n",
    "        \n",
    "    def decrypt(c: str):\n",
    "        N, d = self.pk.modulus, self.pk.privateExponent\n",
    "        # TODO: fazer o mesmo citado na função acima\n",
    "        m_hat = c ^ d mod N\n",
    "        m_hat = fast_mod_exp(c, d, N)\n",
    "        if len(m_hat) > self.l + self.k0 + self.k1:\n",
    "            raise ValueError(\"message length is too big\")\n",
    "        s, t = slc(m_hat, self.l + self.k0)\n",
    "        r = H(s) ^ t\n",
    "        m_ = G(r) ^ s\n",
    "        \n",
    "        return m.replace('{', ' ')\n",
    "        \n",
    "        \n",
    "        "
   ]
  },
  {
   "cell_type": "markdown",
   "metadata": {},
   "source": [
    "### Referências\n",
    "\n",
    "1. [Generate Large Prime][large-prime]\n",
    "1. [Modular Exponentiation][modular-exp]\n",
    "1. [Perfect power][perfect-power]\n",
    "1. [Introduction to Algorithms, 3rd][cormen]\n",
    "1. [List of primes][primes]\n",
    "1. [Euclidean extended alg.][euclides-ext]\n",
    "1. [Modular inverse / extended GCD][modular-inv]\n",
    "1. [RFC 8017][rfc-8017]\n",
    "1. [Miller-Rabin][is-prime]\n",
    "1. [How to generate big primes][big-primes]\n",
    "\n",
    "[large-prime]: https://www.geeksforgeeks.org/how-to-generate-large-prime-numbers-for-rsa-algorithm/\n",
    "[modular-exp]: https://www.geeksforgeeks.org/modular-exponentiation-power-in-modular-arithmetic/\n",
    "[perfect-power]: https://math.stackexchange.com/questions/470424/what-better-way-to-check-if-a-number-is-a-perfect-power\n",
    "[cormen]: https://www.amazon.com/Introduction-Algorithms-3rd-MIT-Press/dp/0262033844\n",
    "[primes]: https://primes.utm.edu/lists/small/millions/\n",
    "[euclides-ext]: https://www.geeksforgeeks.org/multiplicative-inverse-under-modulo-m/\n",
    "[modular-inv]: https://tutorialspoint.dev/algorithm/mathematical-algorithms/multiplicative-inverse-under-modulo-m\n",
    "[rfc-8017]: https://tools.ietf.org/html/rfc8017\n",
    "[is-prime]: https://rosettacode.org/wiki/Miller%E2%80%93Rabin_primality_test#Python\n",
    "[big-primes]: https://medium.com/@prudywsh/how-to-generate-big-prime-numbers-miller-rabin-49e6e6af32fb"
   ]
  }
 ],
 "metadata": {
  "kernelspec": {
   "display_name": "Python 3",
   "language": "python",
   "name": "python3"
  },
  "language_info": {
   "codemirror_mode": {
    "name": "ipython",
    "version": 3
   },
   "file_extension": ".py",
   "mimetype": "text/x-python",
   "name": "python",
   "nbconvert_exporter": "python",
   "pygments_lexer": "ipython3",
   "version": "3.8.1"
  }
 },
 "nbformat": 4,
 "nbformat_minor": 4
}
