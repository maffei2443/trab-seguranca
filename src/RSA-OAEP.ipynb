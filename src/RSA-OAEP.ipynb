{
 "cells": [
  {
   "cell_type": "code",
   "execution_count": 18,
   "metadata": {},
   "outputs": [],
   "source": [
    "import core\n",
    "import utils\n",
    "from importlib import reload as rl"
   ]
  },
  {
   "cell_type": "code",
   "execution_count": 19,
   "metadata": {},
   "outputs": [],
   "source": [
    "rl(utils)\n",
    "rl(core)\n",
    "fhash_oaep = core.SignFile('/home/leomaffei/dodf.pdf', )"
   ]
  },
  {
   "cell_type": "code",
   "execution_count": 13,
   "metadata": {},
   "outputs": [],
   "source": [
    "rl(core)\n",
    "di={}\n",
    "N,d,e=core.GenRSA(\n",
    "    1024, 200, di\n",
    ")"
   ]
  },
  {
   "cell_type": "code",
   "execution_count": 14,
   "metadata": {
    "scrolled": true
   },
   "outputs": [],
   "source": [
    "rl(utils)\n",
    "xy=fhash_oaep.XY\n",
    "lxy = list(xy)\n",
    "\n",
    "xy_asstr=''.join(map(core.padded_bin_rep, lxy))\n",
    "xy_int=utils.bin2int(xy_asstr)\n",
    "l = len(xy)"
   ]
  },
  {
   "cell_type": "code",
   "execution_count": 15,
   "metadata": {},
   "outputs": [],
   "source": [
    "_mensagem = xy_int\n",
    "_sign = pow(xy_int, di['d'], di['n'])\n",
    "_vrfy = pow(_sign, di['e'], di['n'])\n"
   ]
  },
  {
   "cell_type": "code",
   "execution_count": 16,
   "metadata": {},
   "outputs": [
    {
     "data": {
      "text/plain": [
       "True"
      ]
     },
     "execution_count": 16,
     "metadata": {},
     "output_type": "execute_result"
    }
   ],
   "source": [
    "_mensagem == _vrfy"
   ]
  },
  {
   "cell_type": "code",
   "execution_count": 8,
   "metadata": {},
   "outputs": [],
   "source": [
    "assert utils.bin2int('1010') == 10\n",
    "assert utils.bin2int(b'1010') == 10\n",
    "assert utils.bin2int(b'\\x01\\x00\\x01\\x00') == 10"
   ]
  },
  {
   "cell_type": "code",
   "execution_count": 9,
   "metadata": {},
   "outputs": [],
   "source": [
    "for i in range(10000):\n",
    "    assert i == utils.binstr2int(bin(i)[2:])"
   ]
  },
  {
   "cell_type": "code",
   "execution_count": 10,
   "metadata": {},
   "outputs": [],
   "source": [
    "bin_rep_as_str = ''.join(map(core.padded_bin_rep, xy))"
   ]
  }
 ],
 "metadata": {
  "kernelspec": {
   "display_name": "Python 3",
   "language": "python",
   "name": "python3"
  },
  "language_info": {
   "codemirror_mode": {
    "name": "ipython",
    "version": 3
   },
   "file_extension": ".py",
   "mimetype": "text/x-python",
   "name": "python",
   "nbconvert_exporter": "python",
   "pygments_lexer": "ipython3",
   "version": "3.8.1"
  }
 },
 "nbformat": 4,
 "nbformat_minor": 4
}
