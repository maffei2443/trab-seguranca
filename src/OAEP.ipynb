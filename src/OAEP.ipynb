{
 "cells": [
  {
   "cell_type": "code",
   "execution_count": 1,
   "metadata": {},
   "outputs": [],
   "source": [
    "import numpy as np\n",
    "import hashlib as H\n",
    "import random"
   ]
  },
  {
   "cell_type": "code",
   "execution_count": 6,
   "metadata": {},
   "outputs": [],
   "source": [
    "from random import getrandbits\n",
    "import hashlib as HH\n",
    "from collections import namedtuple\n",
    "B0 = '\\x00'\n",
    "\n",
    "def slice_lis(l:list, b: int):\n",
    "    lis = []\n",
    "    for i in range(0, len(l), b):\n",
    "        lis.append(l[i:i+b])\n",
    "    return lis\n",
    "\n",
    "def G(r: bytes):\n",
    "    return HH.sha3_512(r).digest()\n",
    "\n",
    "\n",
    "def H(X: bytes):\n",
    "    return HH.sha3_512(X).digest()\n",
    "\n",
    "\n",
    "def binstr2binbin(s: str):\n",
    "    assert set(s) == {'0', '1'}\n",
    "    b = b''\n",
    "    for c in s.encode('ascii'):\n",
    "        if c == ord('1'):\n",
    "            b += b'1'\n",
    "        else:\n",
    "            b += b'0'\n",
    "    return b\n",
    "\n",
    "\n",
    "def binbin2bytes(s: bytes):\n",
    "    return bytes([int(i, 2) for i in slice_lis(s, 8)])\n",
    "\n",
    "\n",
    "oaep = namedtuple('oaep_enc', 'X Y XY m r m_')\n",
    "class OAEP:\n",
    "    \"\"\"Baseado na descrição da wikipedia\"\"\"\n",
    "    n = 1024\n",
    "    k0 = 512\n",
    "    k1 = 128\n",
    "    expected_len_m = (n - k0 - k1) // 8\n",
    "    \n",
    "    @staticmethod\n",
    "    def Enc(m: bytes):\n",
    "        \n",
    "        if len(m) != OAEP.expected_len_m:\n",
    "            raise ValueError(\n",
    "                f\"`m` must by of length {OAEP.expected_len_m}, not {len(m)}\"\n",
    "            )\n",
    "        # message is padded with k1 zeros to be (n - k0) bits\n",
    "        m_= m + bytes(OAEP.k1//8)\n",
    "        \n",
    "        # r is a randomly generated k0-bit string\n",
    "        r = binbin2bytes(\n",
    "                binstr2binbin(\n",
    "                        padded_bin_rep(\n",
    "                            getrandbits(OAEP.k0),\n",
    "                            OAEP.k0\n",
    "                        )\n",
    "                )\n",
    "        )\n",
    "        print(type(r), r[:10], '...')\n",
    "        # G expands the k0 bits of `r` to (n - k0) bits\n",
    "        X = xor(m_, G(r))\n",
    "        \n",
    "        # H reduces the (n-k0) bits of X to k0 bits\n",
    "        Y = xor(r, H(X))\n",
    "        return oaep(\n",
    "            X=X, Y=Y, XY=X+Y, m=m, r=r, m_=m_\n",
    "        )\n",
    "    @staticmethod\n",
    "    def Dec(m: bytes):\n",
    "        X, Y = slice_lis(m, len(m)//2)\n",
    "        r = xor(Y, H(X))\n",
    "        m_ = xor(X, G(r))\n",
    "        m = m_[:-OAEP.k1//8]\n",
    "        return oaep(\n",
    "            X=X, Y=Y, XY=X+Y, m=m, r=r, m_=m_\n",
    "        )\n",
    "        \n",
    "        "
   ]
  },
  {
   "cell_type": "code",
   "execution_count": 4,
   "metadata": {},
   "outputs": [
    {
     "data": {
      "text/plain": [
       "[109, 97, 109, 97, 117]"
      ]
     },
     "execution_count": 4,
     "metadata": {},
     "output_type": "execute_result"
    }
   ],
   "source": [
    "str_to_bytes_list('mamau')"
   ]
  }
 ],
 "metadata": {
  "kernelspec": {
   "display_name": "Python 3",
   "language": "python",
   "name": "python3"
  },
  "language_info": {
   "codemirror_mode": {
    "name": "ipython",
    "version": 3
   },
   "file_extension": ".py",
   "mimetype": "text/x-python",
   "name": "python",
   "nbconvert_exporter": "python",
   "pygments_lexer": "ipython3",
   "version": "3.8.1"
  }
 },
 "nbformat": 4,
 "nbformat_minor": 4
}
